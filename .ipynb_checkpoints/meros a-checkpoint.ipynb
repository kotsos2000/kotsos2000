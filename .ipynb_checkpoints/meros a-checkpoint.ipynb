{
 "cells": [
  {
   "cell_type": "markdown",
   "id": "c629390e",
   "metadata": {},
   "source": [
    "# Αναγνώριση Προτύπων\n",
    "## Μαυρογιαννάκης Κώστας 9789 , Τρίτη εργασία"
   ]
  },
  {
   "cell_type": "markdown",
   "id": "564bd6c4",
   "metadata": {},
   "source": [
    "# Πρώτο Μέρος"
   ]
  },
  {
   "cell_type": "markdown",
   "id": "33daefa1",
   "metadata": {},
   "source": [
    "## Αρχικά κάνουμε import και install τις βιβλιοθήκες που θα χρειαστούμε"
   ]
  },
  {
   "cell_type": "code",
   "execution_count": null,
   "id": "8267576b",
   "metadata": {},
   "outputs": [],
   "source": [
    "!pip install mlxtend"
   ]
  },
  {
   "cell_type": "code",
   "execution_count": 3,
   "id": "308a9d90",
   "metadata": {},
   "outputs": [],
   "source": [
    "import numpy as np\n",
    "from matplotlib import pyplot as plt\n",
    "from mlxtend.plotting import plot_decision_regions\n",
    "\n",
    "import sklearn\n",
    "from sklearn.tree import DecisionTreeClassifier\n",
    "from sklearn.datasets import load_iris\n",
    "from sklearn import preprocessing\n",
    "from sklearn import metrics\n",
    "from sklearn.metrics import classification_report\n",
    "from sklearn import tree\n",
    "from mlxtend.plotting import plot_decision_regions"
   ]
  },
  {
   "cell_type": "markdown",
   "id": "22b9e424",
   "metadata": {},
   "source": [
    "## Κάνουμε load τα δεδομένα και δημιουργούμε τα σύνολα που θα χρειαστούμε"
   ]
  },
  {
   "cell_type": "code",
   "execution_count": 4,
   "id": "1f7ce120",
   "metadata": {},
   "outputs": [],
   "source": [
    "#την ονομαζω iris για συντομια\n",
    "iris=load_iris()\n",
    "# για το Χ παίρνουμε τις 2 πρώτες στήλες μόνο (και όλες τις σειρές)\n",
    "X=iris.data[:,:2]\n",
    "Y=iris.target\n",
    "\n",
    "# σπάμε το Χ στα 6 κομμάτια που θέλουμε ( τα υπόλοιπα 3 είναι παρακάτω)\n",
    "setosa_train=X[:25,:]\n",
    "versicolor_train=X[50:75,:]\n",
    "virginica_train=X[100:125,:]\n",
    "\n",
    "# τα 25 πρώτα από κάθε κλάση τα βάζουμε στο X_train με append διότι μου φάνηκε πιο εύκολο\n",
    "# από το να ορίσω πρώτα πίνακα με 75 στοιχεία και με΄τά να τα αλλάζω\n",
    "X_train=np.append(setosa_train,versicolor_train,axis=0) #axis=0 για να πάρει τα στοιχεία έτσι όπως τα θέλουμε\n",
    "X_train=np.append(X_train,virginica_train,axis=0)\n",
    "\n",
    "# τα υπόλοιπα 3 για test\n",
    "setosa_test=X[25:50,:]\n",
    "versicolor_test=X[75:100,:]\n",
    "virginica_test=X[125:150,:]\n",
    "\n",
    "# παρόμοια διαδικασία\n",
    "X_test=np.append(setosa_test,versicolor_test,axis=0)\n",
    "X_test=np.append(X_test,virginica_test,axis=0)\n",
    "\n",
    "# θα ΄ήταν πιο εύκολο να κάνω απευθείας τον πίνακα καθώς οι τιμές είναι 25 0, 25 1, 25 2\n",
    "#αλλά  έτσι είναι πιο γενικό\n",
    "Y_train=Y[:25]\n",
    "Y_train=np.append(Y_train,Y[50:75])\n",
    "Y_train=np.append(Y_train,Y[100:125])\n",
    "\n",
    "# test και train ίδια\n",
    "Y_test=Y_train"
   ]
  },
  {
   "cell_type": "markdown",
   "id": "c1a1dced",
   "metadata": {},
   "source": [
    "## Ορίζουμε τον classifier που θα χρησιμοποιήσουμε και τον κάνουμε fit στα δεδομένα μας"
   ]
  },
  {
   "cell_type": "code",
   "execution_count": 6,
   "id": "8ca16342",
   "metadata": {
    "scrolled": true
   },
   "outputs": [
    {
     "name": "stdout",
     "output_type": "stream",
     "text": [
      "Accuracy: 0.72 \n",
      "\n",
      "              precision    recall  f1-score   support\n",
      "\n",
      "      setosa       0.96      0.92      0.94        25\n",
      "  versicolor       0.55      0.84      0.67        25\n",
      "   virginica       0.77      0.40      0.53        25\n",
      "\n",
      "    accuracy                           0.72        75\n",
      "   macro avg       0.76      0.72      0.71        75\n",
      "weighted avg       0.76      0.72      0.71        75\n",
      "\n"
     ]
    }
   ],
   "source": [
    "# random state 0 για ΄ίδια αποτελέσματα κάθε φορά που το τρέχουμε\n",
    "clf = DecisionTreeClassifier(random_state=0)\n",
    "clf = clf.fit(X_train,Y_train)\n",
    "Y_pred = clf.predict(X_test)\n",
    "\n",
    "# βλέπουμε αμέσως και το accuracy\n",
    "print(\"Accuracy:\",metrics.accuracy_score(Y_test, Y_pred),'\\n')\n",
    "\n",
    "# και το classification report για τις 3 κλάσεις\n",
    "print(classification_report(Y_test, Y_pred,target_names=iris.target_names))"
   ]
  },
  {
   "cell_type": "markdown",
   "id": "ca1aef00",
   "metadata": {},
   "source": [
    "## fix"
   ]
  },
  {
   "cell_type": "code",
   "execution_count": 6,
   "id": "b91c28a8",
   "metadata": {
    "scrolled": true
   },
   "outputs": [
    {
     "ename": "NameError",
     "evalue": "name 'plot_confusion_matrix' is not defined",
     "output_type": "error",
     "traceback": [
      "\u001b[1;31m---------------------------------------------------------------------------\u001b[0m",
      "\u001b[1;31mNameError\u001b[0m                                 Traceback (most recent call last)",
      "Input \u001b[1;32mIn [6]\u001b[0m, in \u001b[0;36m<cell line: 1>\u001b[1;34m()\u001b[0m\n\u001b[1;32m----> 1\u001b[0m \u001b[43mplot_confusion_matrix\u001b[49m(clf, X_test, Y_test)\n",
      "\u001b[1;31mNameError\u001b[0m: name 'plot_confusion_matrix' is not defined"
     ]
    }
   ],
   "source": [
    "plot_confusion_matrix(clf, X_test, Y_test)"
   ]
  },
  {
   "cell_type": "markdown",
   "id": "37bc3f49",
   "metadata": {},
   "source": [
    "## Με την βιβλιοθήκη mlxtend βλέπουμε εύκολα τις περιοχές"
   ]
  },
  {
   "cell_type": "code",
   "execution_count": 9,
   "id": "4592cdfe",
   "metadata": {
    "scrolled": true
   },
   "outputs": [
    {
     "data": {
      "image/png": "[encoded data removed]",
      "text/plain": [
       "<Figure size 864x504 with 1 Axes>"
      ]
     },
     "metadata": {
      "needs_background": "light"
     },
     "output_type": "display_data"
    }
   ],
   "source": [
    "# το figsize αυτό στον υπολογιστή μου γεμίζει ακριβώς την οθόνη\n",
    "fig, ax = plt.subplots(figsize=(12, 7))\n",
    "\n",
    "# δίνουμε όρισμα στην συνάρτηση τα test set μας και τον ταξινομητή και μας δίνει το επιθυμητό plot\n",
    "plot_decision_regions(X_test,Y_test, clf)\n",
    "plt.xlabel('petal length [cm]')\n",
    "plt.ylabel('petal width [cm]')\n",
    "plt.legend(loc='best')\n",
    "plt.tight_layout()\n",
    "plt.show()"
   ]
  },
  {
   "cell_type": "markdown",
   "id": "05afcd45",
   "metadata": {},
   "source": [
    "## Καθώς ο classifier μας δεν είχε όρισμα στο βάθος πήρε αυτόματα την τιμή 11. Τώρα θα τον τρέξουμε για βάθη από 1 μέχρι 11 για να δούμε ποιό θα δώσει καλύτερα αποτελέσματα"
   ]
  },
  {
   "cell_type": "code",
   "execution_count": 12,
   "id": "bd935d29",
   "metadata": {
    "scrolled": true
   },
   "outputs": [
    {
     "name": "stdout",
     "output_type": "stream",
     "text": [
      "Accuracy with depth 1 : 0.64\n",
      "Accuracy with depth 2 : 0.68\n",
      "Accuracy with depth 3 : 0.6933333333333334\n",
      "Accuracy with depth 4 : 0.8\n",
      "Accuracy with depth 5 : 0.8\n",
      "Accuracy with depth 6 : 0.8\n",
      "Accuracy with depth 7 : 0.68\n",
      "Accuracy with depth 8 : 0.7066666666666667\n",
      "Accuracy with depth 9 : 0.68\n",
      "Accuracy with depth 10 : 0.72\n",
      "Accuracy with depth 11 : 0.72\n"
     ]
    }
   ],
   "source": [
    "# παίρνουμε το βάθος που έχει επιλέξει\n",
    "a=clf.get_depth()\n",
    "\n",
    "#αρχικοποιούμε μεταβλητές που θα χρειαστούν\n",
    "max=0\n",
    "best_depth=0\n",
    "\n",
    "for i in range(1,a+1): # βάθος 1 εώς 11\n",
    "    clf = DecisionTreeClassifier(random_state=0,max_depth=i)\n",
    "    clf = clf.fit(X_train,Y_train)\n",
    "    Y_pred = clf.predict(X_test)\n",
    "    accuracy=metrics.accuracy_score(Y_test, Y_pred)\n",
    "    # κάνουμε print το accuracy σε κάθε βάθος\n",
    "    print(\"Accuracy with depth\",i, \":\",accuracy)\n",
    "    # αν το τωρινό accuracy είναι το καλύτερο το θέτουμε μέγιστο και παίρνουμε και το βάθος\n",
    "    if (accuracy>max):\n",
    "        max=accuracy\n",
    "        best_depth=i"
   ]
  },
  {
   "cell_type": "markdown",
   "id": "f071e709",
   "metadata": {},
   "source": [
    "## Βλέπουμε ότι τα βάθη 4,5,6 δίνουν το ίδιο accuracy. Θα κρατήσουμε το 4."
   ]
  },
  {
   "cell_type": "code",
   "execution_count": 13,
   "id": "1572e615",
   "metadata": {},
   "outputs": [],
   "source": [
    "# έχουμε κρατήσει το καλύτερο βάθος οπότε ορίζουμε ξανά τον classifier καθώς αυτός που έχουμε τώρα\n",
    "# είναι αυτός της τελευταίας επανάληψης, δηλαδή με βάθος 11\n",
    "clf = DecisionTreeClassifier(random_state=0,max_depth=best_depth)\n",
    "clf = clf.fit(X_train,Y_train)"
   ]
  },
  {
   "cell_type": "markdown",
   "id": "1781c490",
   "metadata": {},
   "source": [
    "## fix"
   ]
  },
  {
   "cell_type": "code",
   "execution_count": null,
   "id": "fa98d7b2",
   "metadata": {},
   "outputs": [],
   "source": [
    "#plot_confusion_matrix(clf, X_test, Y_test)\n",
    "#ConfusionMatrixDisplay.from_predictions or ConfusionMatrixDisplay.from_estimator."
   ]
  },
  {
   "cell_type": "markdown",
   "id": "f183cf0a",
   "metadata": {},
   "source": [
    "## Οπτικοποιούμε πάλι τις περιοχές"
   ]
  },
  {
   "cell_type": "code",
   "execution_count": 14,
   "id": "9f9df7f2",
   "metadata": {},
   "outputs": [
    {
     "data": {
      "image/png": "[encoded data removed]",
      "text/plain": [
       "<Figure size 864x504 with 1 Axes>"
      ]
     },
     "metadata": {
      "needs_background": "light"
     },
     "output_type": "display_data"
    }
   ],
   "source": [
    "fig, ax = plt.subplots(figsize=(12, 7))\n",
    "plot_decision_regions(X_test,Y_test, clf)\n",
    "plt.xlabel('petal length [cm]')\n",
    "plt.ylabel('petal width [cm]')\n",
    "plt.legend(loc='best')\n",
    "plt.tight_layout()\n",
    "plt.show()"
   ]
  },
  {
   "cell_type": "code",
   "execution_count": null,
   "id": "056c34ac",
   "metadata": {},
   "outputs": [],
   "source": []
  }
 ],
 "metadata": {
  "kernelspec": {
   "display_name": "Python 3 (ipykernel)",
   "language": "python",
   "name": "python3"
  },
  "language_info": {
   "codemirror_mode": {
    "name": "ipython",
    "version": 3
   },
   "file_extension": ".py",
   "mimetype": "text/x-python",
   "name": "python",
   "nbconvert_exporter": "python",
   "pygments_lexer": "ipython3",
   "version": "3.9.12"
  }
 },
 "nbformat": 4,
 "nbformat_minor": 5
}

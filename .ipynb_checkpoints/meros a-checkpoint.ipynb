{
 "cells": [
  {
   "cell_type": "code",
   "execution_count": 23,
   "id": "308a9d90",
   "metadata": {},
   "outputs": [],
   "source": [
    "import numpy as np\n",
    "from matplotlib import pyplot as plt\n",
    "\n",
    "import sklearn\n",
    "from sklearn.tree import DecisionTreeClassifier\n",
    "from sklearn.datasets import load_iris\n",
    "from sklearn import preprocessing\n",
    "from sklearn import metrics\n",
    "from sklearn.metrics import classification_report\n",
    "from sklearn.metrics import plot_confusion_matrix\n",
    "from sklearn import tree\n",
    "from mlxtend.plotting import plot_decision_regions\n",
    "# fig = plt.figure(figsize=(10,10))\n",
    "# _ = tree.plot_tree(clf, \n",
    "#                    feature_names=iris.feature_names,  \n",
    "#                    class_names=iris.target_names,\n",
    "#                    filled=True)"
   ]
  },
  {
   "cell_type": "code",
   "execution_count": 24,
   "id": "1f7ce120",
   "metadata": {},
   "outputs": [],
   "source": [
    "iris=load_iris()\n",
    "X=iris.data[:,:2]\n",
    "Y=iris.target\n",
    "\n",
    "setosa_train=X[:25,:]\n",
    "versicolor_train=X[50:75,:]\n",
    "virginica_train=X[100:125,:]\n",
    "\n",
    "X_train=np.append(setosa_train,versicolor_train,axis=0)\n",
    "X_train=np.append(X_train,virginica_train,axis=0)\n",
    "\n",
    "setosa_test=X[25:50,:]\n",
    "versicolor_test=X[75:100,:]\n",
    "virginica_test=X[125:150,:]\n",
    "\n",
    "X_test=np.append(setosa_test,versicolor_test,axis=0)\n",
    "X_test=np.append(X_test,virginica_test,axis=0)\n",
    "\n",
    "Y_train=Y[:25]\n",
    "Y_train=np.append(Y_train,Y[50:75])\n",
    "Y_train=np.append(Y_train,Y[100:125])\n",
    "\n",
    "Y_test=Y_train"
   ]
  },
  {
   "cell_type": "code",
   "execution_count": 25,
   "id": "8ca16342",
   "metadata": {},
   "outputs": [
    {
     "name": "stdout",
     "output_type": "stream",
     "text": [
      "Accuracy: 0.72\n"
     ]
    }
   ],
   "source": [
    "clf = DecisionTreeClassifier(random_state=0)\n",
    "clf = clf.fit(X_train,Y_train)\n",
    "Y_pred = clf.predict(X_test)\n",
    "print(\"Accuracy:\",metrics.accuracy_score(Y_test, Y_pred))"
   ]
  },
  {
   "cell_type": "code",
   "execution_count": 26,
   "id": "c389bd0f",
   "metadata": {},
   "outputs": [
    {
     "name": "stdout",
     "output_type": "stream",
     "text": [
      "              precision    recall  f1-score   support\n",
      "\n",
      "      setosa       0.96      0.92      0.94        25\n",
      "  versicolor       0.55      0.84      0.67        25\n",
      "   virginica       0.77      0.40      0.53        25\n",
      "\n",
      "    accuracy                           0.72        75\n",
      "   macro avg       0.76      0.72      0.71        75\n",
      "weighted avg       0.76      0.72      0.71        75\n",
      "\n"
     ]
    }
   ],
   "source": [
    "print(classification_report(Y_test, Y_pred,target_names=iris.target_names))"
   ]
  },
  {
   "cell_type": "code",
   "execution_count": 27,
   "id": "b91c28a8",
   "metadata": {
    "scrolled": false
   },
   "outputs": [
    {
     "name": "stderr",
     "output_type": "stream",
     "text": [
      "C:\\Users\\user\\anaconda3\\lib\\site-packages\\sklearn\\utils\\deprecation.py:87: FutureWarning: Function plot_confusion_matrix is deprecated; Function `plot_confusion_matrix` is deprecated in 1.0 and will be removed in 1.2. Use one of the class methods: ConfusionMatrixDisplay.from_predictions or ConfusionMatrixDisplay.from_estimator.\n",
      "  warnings.warn(msg, category=FutureWarning)\n"
     ]
    },
    {
     "data": {
      "text/plain": [
       "<sklearn.metrics._plot.confusion_matrix.ConfusionMatrixDisplay at 0x17d69ece940>"
      ]
     },
     "execution_count": 27,
     "metadata": {},
     "output_type": "execute_result"
    },
    {
     "data": {
      "image/png": "[encoded data removed]",
      "text/plain": [
       "<Figure size 432x288 with 2 Axes>"
      ]
     },
     "metadata": {
      "needs_background": "light"
     },
     "output_type": "display_data"
    }
   ],
   "source": [
    "plot_confusion_matrix(clf, X_test, Y_test)"
   ]
  },
  {
   "cell_type": "code",
   "execution_count": 28,
   "id": "4592cdfe",
   "metadata": {},
   "outputs": [
    {
     "data": {
      "image/png": "[encoded data removed]",
      "text/plain": [
       "<Figure size 504x504 with 1 Axes>"
      ]
     },
     "metadata": {
      "needs_background": "light"
     },
     "output_type": "display_data"
    }
   ],
   "source": [
    "fig, ax = plt.subplots(figsize=(7, 7))\n",
    "plot_decision_regions(X_test,Y_test, clf)\n",
    "plt.xlabel('petal length [cm]')\n",
    "plt.ylabel('petal width [cm]')\n",
    "plt.legend(loc='best')\n",
    "plt.tight_layout()\n",
    "plt.show()"
   ]
  },
  {
   "cell_type": "code",
   "execution_count": 29,
   "id": "bd935d29",
   "metadata": {},
   "outputs": [
    {
     "name": "stdout",
     "output_type": "stream",
     "text": [
      "Accuracy with depth 1 : 0.64\n",
      "Accuracy with depth 2 : 0.68\n",
      "Accuracy with depth 3 : 0.6933333333333334\n",
      "Accuracy with depth 4 : 0.8\n",
      "Accuracy with depth 5 : 0.8\n",
      "Accuracy with depth 6 : 0.8\n",
      "Accuracy with depth 7 : 0.68\n",
      "Accuracy with depth 8 : 0.7066666666666667\n",
      "Accuracy with depth 9 : 0.68\n",
      "Accuracy with depth 10 : 0.72\n",
      "Accuracy with depth 11 : 0.72\n"
     ]
    }
   ],
   "source": [
    "a=clf.get_depth()\n",
    "max=0\n",
    "best_depth=0\n",
    "for i in range(1,a+1):\n",
    "    clf = DecisionTreeClassifier(random_state=0,max_depth=i)\n",
    "    clf = clf.fit(X_train,Y_train)\n",
    "    Y_pred = clf.predict(X_test)\n",
    "    accuracy=metrics.accuracy_score(Y_test, Y_pred)\n",
    "    print(\"Accuracy with depth\",i, \":\",accuracy)\n",
    "    if (accuracy>max):\n",
    "        max=accuracy\n",
    "        best_depth=i\n",
    "    "
   ]
  },
  {
   "cell_type": "code",
   "execution_count": 30,
   "id": "1572e615",
   "metadata": {},
   "outputs": [
    {
     "name": "stderr",
     "output_type": "stream",
     "text": [
      "C:\\Users\\user\\anaconda3\\lib\\site-packages\\sklearn\\utils\\deprecation.py:87: FutureWarning: Function plot_confusion_matrix is deprecated; Function `plot_confusion_matrix` is deprecated in 1.0 and will be removed in 1.2. Use one of the class methods: ConfusionMatrixDisplay.from_predictions or ConfusionMatrixDisplay.from_estimator.\n",
      "  warnings.warn(msg, category=FutureWarning)\n"
     ]
    },
    {
     "data": {
      "text/plain": [
       "<sklearn.metrics._plot.confusion_matrix.ConfusionMatrixDisplay at 0x17d692b9130>"
      ]
     },
     "execution_count": 30,
     "metadata": {},
     "output_type": "execute_result"
    },
    {
     "data": {
      "image/png": "[encoded data removed]",
      "text/plain": [
       "<Figure size 432x288 with 2 Axes>"
      ]
     },
     "metadata": {
      "needs_background": "light"
     },
     "output_type": "display_data"
    }
   ],
   "source": [
    "clf = DecisionTreeClassifier(random_state=0,max_depth=best_depth)\n",
    "clf = clf.fit(X_train,Y_train)\n",
    "plot_confusion_matrix(clf, X_test, Y_test)"
   ]
  },
  {
   "cell_type": "code",
   "execution_count": 31,
   "id": "9f9df7f2",
   "metadata": {},
   "outputs": [
    {
     "data": {
      "image/png": "[encoded data removed]",
      "text/plain": [
       "<Figure size 504x504 with 1 Axes>"
      ]
     },
     "metadata": {
      "needs_background": "light"
     },
     "output_type": "display_data"
    }
   ],
   "source": [
    "fig, ax = plt.subplots(figsize=(7, 7))\n",
    "plot_decision_regions(X_test,Y_test, clf)\n",
    "plt.xlabel('petal length [cm]')\n",
    "plt.ylabel('petal width [cm]')\n",
    "plt.legend(loc='best')\n",
    "plt.tight_layout()\n",
    "plt.show()"
   ]
  },
  {
   "cell_type": "code",
   "execution_count": null,
   "id": "056c34ac",
   "metadata": {},
   "outputs": [],
   "source": []
  }
 ],
 "metadata": {
  "kernelspec": {
   "display_name": "Python 3 (ipykernel)",
   "language": "python",
   "name": "python3"
  },
  "language_info": {
   "codemirror_mode": {
    "name": "ipython",
    "version": 3
   },
   "file_extension": ".py",
   "mimetype": "text/x-python",
   "name": "python",
   "nbconvert_exporter": "python",
   "pygments_lexer": "ipython3",
   "version": "3.9.12"
  }
 },
 "nbformat": 4,
 "nbformat_minor": 5
}

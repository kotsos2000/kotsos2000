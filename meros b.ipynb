{
 "cells": [
  {
   "cell_type": "code",
   "execution_count": 55,
   "id": "937383d3",
   "metadata": {},
   "outputs": [],
   "source": [
    "import numpy as np\n",
    "from matplotlib import pyplot as plt\n",
    "\n",
    "import sklearn\n",
    "from sklearn.tree import DecisionTreeClassifier\n",
    "from sklearn.datasets import load_iris\n",
    "from sklearn import preprocessing\n",
    "from sklearn import metrics\n",
    "from sklearn.metrics import classification_report\n",
    "from sklearn.metrics import plot_confusion_matrix\n",
    "from sklearn import tree\n",
    "from mlxtend.plotting import plot_decision_regions"
   ]
  },
  {
   "cell_type": "code",
   "execution_count": 56,
   "id": "8fde81cf",
   "metadata": {},
   "outputs": [],
   "source": [
    "iris=load_iris()\n",
    "X=iris.data[:,:2]\n",
    "Y=iris.target\n",
    "\n",
    "setosa_train=X[:25,:]\n",
    "versicolor_train=X[50:75,:]\n",
    "virginica_train=X[100:125,:]\n",
    "\n",
    "X_train=np.append(setosa_train,versicolor_train,axis=0)\n",
    "X_train=np.append(X_train,virginica_train,axis=0)\n",
    "\n",
    "setosa_test=X[25:50,:]\n",
    "versicolor_test=X[75:100,:]\n",
    "virginica_test=X[125:150,:]\n",
    "\n",
    "X_test=np.append(setosa_test,versicolor_test,axis=0)\n",
    "X_test=np.append(X_test,virginica_test,axis=0)\n",
    "\n",
    "Y_train=Y[:25]\n",
    "Y_train=np.append(Y_train,Y[50:75])\n",
    "Y_train=np.append(Y_train,Y[100:125])\n",
    "\n",
    "Y_test=Y_train"
   ]
  },
  {
   "cell_type": "code",
   "execution_count": null,
   "id": "cb62915d",
   "metadata": {},
   "outputs": [],
   "source": []
  }
 ],
 "metadata": {
  "kernelspec": {
   "display_name": "Python 3 (ipykernel)",
   "language": "python",
   "name": "python3"
  },
  "language_info": {
   "codemirror_mode": {
    "name": "ipython",
    "version": 3
   },
   "file_extension": ".py",
   "mimetype": "text/x-python",
   "name": "python",
   "nbconvert_exporter": "python",
   "pygments_lexer": "ipython3",
   "version": "3.9.12"
  }
 },
 "nbformat": 4,
 "nbformat_minor": 5
}

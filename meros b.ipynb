{
 "cells": [
  {
   "cell_type": "code",
   "execution_count": 1,
   "id": "937383d3",
   "metadata": {},
   "outputs": [],
   "source": [
    "import numpy as np\n",
    "from matplotlib import pyplot as plt\n",
    "from mlxtend.plotting import plot_decision_regions\n",
    "\n",
    "import sklearn\n",
    "from sklearn.tree import DecisionTreeClassifier\n",
    "from sklearn.datasets import load_iris\n",
    "from sklearn import preprocessing\n",
    "from sklearn import metrics\n",
    "from sklearn.metrics import classification_report\n",
    "from sklearn import tree\n",
    "from sklearn.utils import resample"
   ]
  },
  {
   "cell_type": "code",
   "execution_count": 2,
   "id": "8fde81cf",
   "metadata": {},
   "outputs": [],
   "source": [
    "iris=load_iris()\n",
    "X=iris.data[:,:2]\n",
    "Y=iris.target\n",
    "\n",
    "setosa_train=X[:25,:]\n",
    "versicolor_train=X[50:75,:]\n",
    "virginica_train=X[100:125,:]\n",
    "\n",
    "X_train=np.append(setosa_train,versicolor_train,axis=0)\n",
    "X_train=np.append(X_train,virginica_train,axis=0)\n",
    "\n",
    "setosa_test=X[25:50,:]\n",
    "versicolor_test=X[75:100,:]\n",
    "virginica_test=X[125:150,:]\n",
    "\n",
    "X_test=np.append(setosa_test,versicolor_test,axis=0)\n",
    "X_test=np.append(X_test,virginica_test,axis=0)\n",
    "\n",
    "Y_train=Y[:25]\n",
    "Y_train=np.append(Y_train,Y[50:75])\n",
    "Y_train=np.append(Y_train,Y[100:125])\n",
    "\n",
    "Y_test=Y_train"
   ]
  },
  {
   "cell_type": "code",
   "execution_count": 152,
   "id": "e0ef2427",
   "metadata": {},
   "outputs": [],
   "source": [
    "max=0\n",
    "depth=7\n",
    "accuracy_array=np.zeros(100)\n",
    "\n",
    "for i in range (0,100):\n",
    "    XY_train=np.column_stack((X_train,Y_train))\n",
    "    XY_resample= resample(XY_train,n_samples=int(XY_train.shape[0]/6) )\n",
    "    Y_train_new=XY_resample[:,2]\n",
    "    X_train_new=XY_resample[:,:2]\n",
    "    clf = DecisionTreeClassifier(random_state=0,max_depth=depth)\n",
    "    clf = clf.fit(X_train_new,Y_train_new)\n",
    "    if (i==1):\n",
    "        best_clf=clf\n",
    "    Y_pred = clf.predict(X_test)\n",
    "    #print(\"Accuracy:\",metrics.accuracy_score(Y_test, Y_pred))\n",
    "    acc=metrics.accuracy_score(Y_test, Y_pred)\n",
    "    accuracy_array[i]=acc\n",
    "    if (acc>max):\n",
    "        max=acc\n",
    "        best_clf=clf"
   ]
  },
  {
   "cell_type": "code",
   "execution_count": 153,
   "id": "1d888c30",
   "metadata": {},
   "outputs": [
    {
     "name": "stdout",
     "output_type": "stream",
     "text": [
      "Max accuracy: 0.8 \n",
      "Min accuracy: 0.3466666666666667 \n",
      "Mean accuracy: 0.6000000000000001\n"
     ]
    }
   ],
   "source": [
    "print('Max accuracy:', accuracy_array.max(),'\\nMin accuracy:',accuracy_array.min(),'\\nMean accuracy:', accuracy_array.mean())"
   ]
  },
  {
   "cell_type": "code",
   "execution_count": 111,
   "id": "d40a2b66",
   "metadata": {},
   "outputs": [
    {
     "name": "stdout",
     "output_type": "stream",
     "text": [
      "Accuracy: 0.8\n"
     ]
    },
    {
     "data": {
      "image/png": "[encoded data removed]",
      "text/plain": [
       "<Figure size 504x504 with 1 Axes>"
      ]
     },
     "metadata": {
      "needs_background": "light"
     },
     "output_type": "display_data"
    }
   ],
   "source": [
    "Y_pred = best_clf.predict(X_test)\n",
    "print(\"Accuracy:\",metrics.accuracy_score(Y_test, Y_pred))\n",
    "fig, ax = plt.subplots(figsize=(7, 7))\n",
    "plot_decision_regions(X_test,Y_test, best_clf)\n",
    "plt.xlabel('petal length [cm]')\n",
    "plt.ylabel('petal width [cm]')\n",
    "plt.legend(loc='best')\n",
    "plt.tight_layout()\n",
    "plt.show()"
   ]
  },
  {
   "cell_type": "code",
   "execution_count": null,
   "id": "305e7026",
   "metadata": {},
   "outputs": [],
   "source": []
  }
 ],
 "metadata": {
  "kernelspec": {
   "display_name": "Python 3 (ipykernel)",
   "language": "python",
   "name": "python3"
  },
  "language_info": {
   "codemirror_mode": {
    "name": "ipython",
    "version": 3
   },
   "file_extension": ".py",
   "mimetype": "text/x-python",
   "name": "python",
   "nbconvert_exporter": "python",
   "pygments_lexer": "ipython3",
   "version": "3.9.12"
  }
 },
 "nbformat": 4,
 "nbformat_minor": 5
}
